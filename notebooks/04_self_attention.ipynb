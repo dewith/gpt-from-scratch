{
 "cells": [
  {
   "cell_type": "markdown",
   "metadata": {},
   "source": [
    "## 👀 Self attention"
   ]
  },
  {
   "cell_type": "markdown",
   "metadata": {},
   "source": [
    "#### 📚 Libraries"
   ]
  },
  {
   "cell_type": "code",
   "execution_count": 1,
   "metadata": {},
   "outputs": [],
   "source": [
    "import torch\n",
    "from torch.nn import functional as F"
   ]
  },
  {
   "cell_type": "markdown",
   "metadata": {},
   "source": [
    "#### 🧶 For loop implementation"
   ]
  },
  {
   "cell_type": "code",
   "execution_count": 2,
   "metadata": {},
   "outputs": [
    {
     "data": {
      "text/plain": [
       "torch.Size([4, 8, 2])"
      ]
     },
     "execution_count": 2,
     "metadata": {},
     "output_type": "execute_result"
    }
   ],
   "source": [
    "torch.manual_seed(42)\n",
    "\n",
    "b, t, c = 4, 8, 2  # batch, time, channels\n",
    "x = torch.randn(b, t, c)\n",
    "x.shape"
   ]
  },
  {
   "cell_type": "markdown",
   "metadata": {},
   "source": [
    "**Cumulative average**"
   ]
  },
  {
   "cell_type": "code",
   "execution_count": 3,
   "metadata": {},
   "outputs": [],
   "source": [
    "# We want x[b, t] = mean{i<=t} x[b, i]\n",
    "xbow = torch.zeros((b, t, c))\n",
    "for batch in range(b):\n",
    "    for time in range(t):\n",
    "        xprev = x[batch, 0 : time + 1]  # (time, c)\n",
    "        xbow[batch, time] = torch.mean(xprev, dim=0)"
   ]
  },
  {
   "cell_type": "code",
   "execution_count": 4,
   "metadata": {},
   "outputs": [
    {
     "name": "stdout",
     "output_type": "stream",
     "text": [
      "        x                                xbow       \n",
      "  [1.927 1.487]   │ │ │ │ │ │ │ └─   [1.927 1.487]  \n",
      " [ 0.901 -2.106]  │ │ │ │ │ │ └───  [ 1.414 -0.309] \n",
      " [ 0.678 -1.235]  │ │ │ │ │ └─────  [ 1.169 -0.618] \n",
      " [-0.043 -1.605]  │ │ │ │ └───────  [ 0.866 -0.864] \n",
      " [-0.752  1.649]  │ │ │ └─────────  [ 0.542 -0.362] \n",
      " [-0.392 -1.404]  │ │ └───────────  [ 0.386 -0.535] \n",
      " [-0.728 -0.559]  │ └─────────────  [ 0.227 -0.539] \n",
      " [-0.769  0.762]  └───────────────  [ 0.103 -0.376] \n"
     ]
    }
   ],
   "source": [
    "batch = 0\n",
    "\n",
    "join = \"└─\"\n",
    "join_char = \"──\"\n",
    "line = \"│ \"\n",
    "\n",
    "print(\"{:^17}{:^18}{:^17}\".format(\"x\", \"\", \"xbow\"))\n",
    "for time in range(t):\n",
    "    x_time = str(x[batch, time].numpy().round(3))\n",
    "    xbow_time = str(xbow[batch, time].numpy().round(3))\n",
    "\n",
    "    n_joins = time + 1\n",
    "    n_lines = t - n_joins\n",
    "    line_str = \"\".join([line * n_lines])\n",
    "    join_line_str = \"\".join([join, join_char * (n_joins - 1)])\n",
    "    whole_string = line_str + join_line_str\n",
    "\n",
    "    print(\"{:^17}{:^18}{:^17}\".format(x_time, whole_string, xbow_time))"
   ]
  },
  {
   "cell_type": "markdown",
   "metadata": {},
   "source": [
    "#### 🦐 Matrix multiplication implementation"
   ]
  },
  {
   "cell_type": "code",
   "execution_count": 5,
   "metadata": {},
   "outputs": [
    {
     "name": "stdout",
     "output_type": "stream",
     "text": [
      "d =\n",
      "tensor([[1.0000, 0.0000, 0.0000],\n",
      "        [0.5000, 0.5000, 0.0000],\n",
      "        [0.3333, 0.3333, 0.3333]])\n",
      "\n",
      "e =\n",
      "tensor([[2., 7.],\n",
      "        [6., 4.],\n",
      "        [6., 5.]])\n",
      "\n",
      "f =\n",
      "tensor([[2.0000, 7.0000],\n",
      "        [4.0000, 5.5000],\n",
      "        [4.6667, 5.3333]])\n"
     ]
    }
   ],
   "source": [
    "torch.manual_seed(42)\n",
    "d = torch.tril(torch.ones(3, 3))\n",
    "d = d / torch.sum(d, dim=1, keepdim=True)\n",
    "e = torch.randint(0, 10, (3, 2)).float()\n",
    "f = d @ e\n",
    "print(\"d =\")\n",
    "print(d)\n",
    "print()\n",
    "print(\"e =\")\n",
    "print(e)\n",
    "print()\n",
    "print(\"f =\")\n",
    "print(f)"
   ]
  },
  {
   "cell_type": "code",
   "execution_count": 6,
   "metadata": {},
   "outputs": [
    {
     "data": {
      "text/plain": [
       "tensor([[1.0000, 0.0000, 0.0000, 0.0000, 0.0000, 0.0000, 0.0000, 0.0000],\n",
       "        [0.5000, 0.5000, 0.0000, 0.0000, 0.0000, 0.0000, 0.0000, 0.0000],\n",
       "        [0.3333, 0.3333, 0.3333, 0.0000, 0.0000, 0.0000, 0.0000, 0.0000],\n",
       "        [0.2500, 0.2500, 0.2500, 0.2500, 0.0000, 0.0000, 0.0000, 0.0000],\n",
       "        [0.2000, 0.2000, 0.2000, 0.2000, 0.2000, 0.0000, 0.0000, 0.0000],\n",
       "        [0.1667, 0.1667, 0.1667, 0.1667, 0.1667, 0.1667, 0.0000, 0.0000],\n",
       "        [0.1429, 0.1429, 0.1429, 0.1429, 0.1429, 0.1429, 0.1429, 0.0000],\n",
       "        [0.1250, 0.1250, 0.1250, 0.1250, 0.1250, 0.1250, 0.1250, 0.1250]])"
      ]
     },
     "execution_count": 6,
     "metadata": {},
     "output_type": "execute_result"
    }
   ],
   "source": [
    "wei = torch.tril(torch.ones(t, t))\n",
    "wei = wei / torch.sum(wei, dim=1, keepdim=True)\n",
    "wei"
   ]
  },
  {
   "cell_type": "code",
   "execution_count": 7,
   "metadata": {},
   "outputs": [],
   "source": [
    "xbow2 = wei @ x  # (b, t, t) @ (b, t, c) = (b, t, c"
   ]
  },
  {
   "cell_type": "code",
   "execution_count": 8,
   "metadata": {},
   "outputs": [
    {
     "name": "stdout",
     "output_type": "stream",
     "text": [
      "      xbow                               xbow2      \n",
      "  [1.927 1.487]        <--->         [1.927 1.487]  \n",
      " [ 1.414 -0.309]       <--->        [ 1.414 -0.309] \n",
      " [ 1.169 -0.618]       <--->        [ 1.169 -0.618] \n",
      " [ 0.866 -0.864]       <--->        [ 0.866 -0.864] \n",
      " [ 0.542 -0.362]       <--->        [ 0.542 -0.362] \n",
      " [ 0.386 -0.535]       <--->        [ 0.386 -0.535] \n",
      " [ 0.227 -0.539]       <--->        [ 0.227 -0.539] \n",
      " [ 0.103 -0.376]       <--->        [ 0.103 -0.376] \n",
      "\n",
      "xbow == xbow2: True\n"
     ]
    }
   ],
   "source": [
    "print(\"{:^17}{:^18}{:^17}\".format(\"xbow\", \"\", \"xbow2\"))\n",
    "for time in range(t):\n",
    "    xbow_time = str(xbow[batch, time].numpy().round(3))\n",
    "    xbow2_time = str(xbow2[batch, time].numpy().round(3))\n",
    "    print(\"{:^17}{:^18}{:^17}\".format(xbow_time, \"<--->\", xbow2_time))\n",
    "\n",
    "print()\n",
    "print(\"xbow == xbow2:\", torch.allclose(xbow, xbow2))"
   ]
  },
  {
   "cell_type": "markdown",
   "metadata": {},
   "source": [
    "#### 🚚 Softmax implementation"
   ]
  },
  {
   "cell_type": "code",
   "execution_count": 9,
   "metadata": {},
   "outputs": [],
   "source": [
    "tril = torch.tril(torch.ones(t, t))\n",
    "wei = torch.zeros((t, t))\n",
    "wei = wei.masked_fill(tril == 0, float(\"-inf\"))\n",
    "wei = F.softmax(wei, dim=-1)\n",
    "xbow3 = wei @ x"
   ]
  },
  {
   "cell_type": "code",
   "execution_count": 10,
   "metadata": {},
   "outputs": [
    {
     "name": "stdout",
     "output_type": "stream",
     "text": [
      "      xbow                               xbow3      \n",
      "  [1.927 1.487]        <--->         [1.927 1.487]  \n",
      " [ 1.414 -0.309]       <--->        [ 1.414 -0.309] \n",
      " [ 1.169 -0.618]       <--->        [ 1.169 -0.618] \n",
      " [ 0.866 -0.864]       <--->        [ 0.866 -0.864] \n",
      " [ 0.542 -0.362]       <--->        [ 0.542 -0.362] \n",
      " [ 0.386 -0.535]       <--->        [ 0.386 -0.535] \n",
      " [ 0.227 -0.539]       <--->        [ 0.227 -0.539] \n",
      " [ 0.103 -0.376]       <--->        [ 0.103 -0.376] \n",
      "\n",
      "xbow == xbow3: True\n"
     ]
    }
   ],
   "source": [
    "print(\"{:^17}{:^18}{:^17}\".format(\"xbow\", \"\", \"xbow3\"))\n",
    "for time in range(t):\n",
    "    xbow_time = str(xbow[batch, time].numpy().round(3))\n",
    "    xbow3_time = str(xbow3[batch, time].numpy().round(3))\n",
    "    print(\"{:^17}{:^18}{:^17}\".format(xbow_time, \"<--->\", xbow3_time))\n",
    "\n",
    "print()\n",
    "print(\"xbow == xbow3:\", torch.allclose(xbow, xbow3))"
   ]
  },
  {
   "cell_type": "code",
   "execution_count": null,
   "metadata": {},
   "outputs": [],
   "source": []
  }
 ],
 "metadata": {
  "kernelspec": {
   "display_name": "env",
   "language": "python",
   "name": "python3"
  },
  "language_info": {
   "codemirror_mode": {
    "name": "ipython",
    "version": 3
   },
   "file_extension": ".py",
   "mimetype": "text/x-python",
   "name": "python",
   "nbconvert_exporter": "python",
   "pygments_lexer": "ipython3",
   "version": "3.11.5"
  }
 },
 "nbformat": 4,
 "nbformat_minor": 2
}
