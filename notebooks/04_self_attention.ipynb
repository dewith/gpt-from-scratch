{
 "cells": [
  {
   "cell_type": "markdown",
   "metadata": {},
   "source": [
    "## 👀 Self attention"
   ]
  },
  {
   "cell_type": "markdown",
   "metadata": {},
   "source": [
    "#### 📚 Libraries"
   ]
  },
  {
   "cell_type": "code",
   "execution_count": 44,
   "metadata": {},
   "outputs": [],
   "source": [
    "import torch\n",
    "from torch import nn\n",
    "from torch.nn import functional as F\n",
    "\n",
    "import matplotlib.pyplot as plt\n",
    "import seaborn as sns"
   ]
  },
  {
   "cell_type": "markdown",
   "metadata": {},
   "source": [
    "#### 🧶 For loop implementation"
   ]
  },
  {
   "cell_type": "code",
   "execution_count": 2,
   "metadata": {},
   "outputs": [
    {
     "data": {
      "text/plain": [
       "torch.Size([4, 8, 2])"
      ]
     },
     "execution_count": 2,
     "metadata": {},
     "output_type": "execute_result"
    }
   ],
   "source": [
    "torch.manual_seed(42)\n",
    "\n",
    "b, t, c = 4, 8, 2  # batch, time, channels\n",
    "x = torch.randn(b, t, c)\n",
    "x.shape"
   ]
  },
  {
   "cell_type": "markdown",
   "metadata": {},
   "source": [
    "**Cumulative average**"
   ]
  },
  {
   "cell_type": "code",
   "execution_count": 3,
   "metadata": {},
   "outputs": [],
   "source": [
    "# We want x[b, t] = mean{i<=t} x[b, i]\n",
    "xbow = torch.zeros((b, t, c))\n",
    "for batch in range(b):\n",
    "    for time in range(t):\n",
    "        xprev = x[batch, 0 : time + 1]  # (time, c)\n",
    "        xbow[batch, time] = torch.mean(xprev, dim=0)"
   ]
  },
  {
   "cell_type": "code",
   "execution_count": 4,
   "metadata": {},
   "outputs": [
    {
     "name": "stdout",
     "output_type": "stream",
     "text": [
      "        x                                xbow       \n",
      "  [1.927 1.487]   │ │ │ │ │ │ │ └─   [1.927 1.487]  \n",
      " [ 0.901 -2.106]  │ │ │ │ │ │ └───  [ 1.414 -0.309] \n",
      " [ 0.678 -1.235]  │ │ │ │ │ └─────  [ 1.169 -0.618] \n",
      " [-0.043 -1.605]  │ │ │ │ └───────  [ 0.866 -0.864] \n",
      " [-0.752  1.649]  │ │ │ └─────────  [ 0.542 -0.362] \n",
      " [-0.392 -1.404]  │ │ └───────────  [ 0.386 -0.535] \n",
      " [-0.728 -0.559]  │ └─────────────  [ 0.227 -0.539] \n",
      " [-0.769  0.762]  └───────────────  [ 0.103 -0.376] \n"
     ]
    }
   ],
   "source": [
    "batch = 0\n",
    "\n",
    "join = \"└─\"\n",
    "join_char = \"──\"\n",
    "line = \"│ \"\n",
    "\n",
    "print(\"{:^17}{:^18}{:^17}\".format(\"x\", \"\", \"xbow\"))\n",
    "for time in range(t):\n",
    "    x_time = str(x[batch, time].numpy().round(3))\n",
    "    xbow_time = str(xbow[batch, time].numpy().round(3))\n",
    "\n",
    "    n_joins = time + 1\n",
    "    n_lines = t - n_joins\n",
    "    line_str = \"\".join([line * n_lines])\n",
    "    join_line_str = \"\".join([join, join_char * (n_joins - 1)])\n",
    "    whole_string = line_str + join_line_str\n",
    "\n",
    "    print(\"{:^17}{:^18}{:^17}\".format(x_time, whole_string, xbow_time))"
   ]
  },
  {
   "cell_type": "markdown",
   "metadata": {},
   "source": [
    "#### 🦐 Matrix multiplication implementation"
   ]
  },
  {
   "cell_type": "code",
   "execution_count": 5,
   "metadata": {},
   "outputs": [
    {
     "name": "stdout",
     "output_type": "stream",
     "text": [
      "d =\n",
      "tensor([[1.0000, 0.0000, 0.0000],\n",
      "        [0.5000, 0.5000, 0.0000],\n",
      "        [0.3333, 0.3333, 0.3333]])\n",
      "\n",
      "e =\n",
      "tensor([[2., 7.],\n",
      "        [6., 4.],\n",
      "        [6., 5.]])\n",
      "\n",
      "f =\n",
      "tensor([[2.0000, 7.0000],\n",
      "        [4.0000, 5.5000],\n",
      "        [4.6667, 5.3333]])\n"
     ]
    }
   ],
   "source": [
    "torch.manual_seed(42)\n",
    "d = torch.tril(torch.ones(3, 3))\n",
    "d = d / torch.sum(d, dim=1, keepdim=True)\n",
    "e = torch.randint(0, 10, (3, 2)).float()\n",
    "f = d @ e\n",
    "print(\"d =\")\n",
    "print(d)\n",
    "print()\n",
    "print(\"e =\")\n",
    "print(e)\n",
    "print()\n",
    "print(\"f =\")\n",
    "print(f)"
   ]
  },
  {
   "cell_type": "code",
   "execution_count": 6,
   "metadata": {},
   "outputs": [
    {
     "data": {
      "text/plain": [
       "tensor([[1.0000, 0.0000, 0.0000, 0.0000, 0.0000, 0.0000, 0.0000, 0.0000],\n",
       "        [0.5000, 0.5000, 0.0000, 0.0000, 0.0000, 0.0000, 0.0000, 0.0000],\n",
       "        [0.3333, 0.3333, 0.3333, 0.0000, 0.0000, 0.0000, 0.0000, 0.0000],\n",
       "        [0.2500, 0.2500, 0.2500, 0.2500, 0.0000, 0.0000, 0.0000, 0.0000],\n",
       "        [0.2000, 0.2000, 0.2000, 0.2000, 0.2000, 0.0000, 0.0000, 0.0000],\n",
       "        [0.1667, 0.1667, 0.1667, 0.1667, 0.1667, 0.1667, 0.0000, 0.0000],\n",
       "        [0.1429, 0.1429, 0.1429, 0.1429, 0.1429, 0.1429, 0.1429, 0.0000],\n",
       "        [0.1250, 0.1250, 0.1250, 0.1250, 0.1250, 0.1250, 0.1250, 0.1250]])"
      ]
     },
     "execution_count": 6,
     "metadata": {},
     "output_type": "execute_result"
    }
   ],
   "source": [
    "wei = torch.tril(torch.ones(t, t))\n",
    "wei = wei / torch.sum(wei, dim=1, keepdim=True)\n",
    "wei"
   ]
  },
  {
   "cell_type": "code",
   "execution_count": 7,
   "metadata": {},
   "outputs": [],
   "source": [
    "xbow2 = wei @ x  # (b, t, t) @ (b, t, c) = (b, t, c"
   ]
  },
  {
   "cell_type": "code",
   "execution_count": 8,
   "metadata": {},
   "outputs": [
    {
     "name": "stdout",
     "output_type": "stream",
     "text": [
      "      xbow                               xbow2      \n",
      "  [1.927 1.487]        <--->         [1.927 1.487]  \n",
      " [ 1.414 -0.309]       <--->        [ 1.414 -0.309] \n",
      " [ 1.169 -0.618]       <--->        [ 1.169 -0.618] \n",
      " [ 0.866 -0.864]       <--->        [ 0.866 -0.864] \n",
      " [ 0.542 -0.362]       <--->        [ 0.542 -0.362] \n",
      " [ 0.386 -0.535]       <--->        [ 0.386 -0.535] \n",
      " [ 0.227 -0.539]       <--->        [ 0.227 -0.539] \n",
      " [ 0.103 -0.376]       <--->        [ 0.103 -0.376] \n",
      "\n",
      "xbow == xbow2: True\n"
     ]
    }
   ],
   "source": [
    "print(\"{:^17}{:^18}{:^17}\".format(\"xbow\", \"\", \"xbow2\"))\n",
    "for time in range(t):\n",
    "    xbow_time = str(xbow[batch, time].numpy().round(3))\n",
    "    xbow2_time = str(xbow2[batch, time].numpy().round(3))\n",
    "    print(\"{:^17}{:^18}{:^17}\".format(xbow_time, \"<--->\", xbow2_time))\n",
    "\n",
    "print()\n",
    "print(\"xbow == xbow2:\", torch.allclose(xbow, xbow2))"
   ]
  },
  {
   "cell_type": "markdown",
   "metadata": {},
   "source": [
    "#### 🚚 Softmax implementation"
   ]
  },
  {
   "cell_type": "code",
   "execution_count": 9,
   "metadata": {},
   "outputs": [],
   "source": [
    "tril = torch.tril(torch.ones(t, t))\n",
    "wei = torch.zeros((t, t))\n",
    "wei = wei.masked_fill(tril == 0, float(\"-inf\"))\n",
    "wei = F.softmax(wei, dim=-1)\n",
    "xbow3 = wei @ x"
   ]
  },
  {
   "cell_type": "code",
   "execution_count": 10,
   "metadata": {},
   "outputs": [
    {
     "name": "stdout",
     "output_type": "stream",
     "text": [
      "      xbow                               xbow3      \n",
      "  [1.927 1.487]        <--->         [1.927 1.487]  \n",
      " [ 1.414 -0.309]       <--->        [ 1.414 -0.309] \n",
      " [ 1.169 -0.618]       <--->        [ 1.169 -0.618] \n",
      " [ 0.866 -0.864]       <--->        [ 0.866 -0.864] \n",
      " [ 0.542 -0.362]       <--->        [ 0.542 -0.362] \n",
      " [ 0.386 -0.535]       <--->        [ 0.386 -0.535] \n",
      " [ 0.227 -0.539]       <--->        [ 0.227 -0.539] \n",
      " [ 0.103 -0.376]       <--->        [ 0.103 -0.376] \n",
      "\n",
      "xbow == xbow3: True\n"
     ]
    }
   ],
   "source": [
    "print(\"{:^17}{:^18}{:^17}\".format(\"xbow\", \"\", \"xbow3\"))\n",
    "for time in range(t):\n",
    "    xbow_time = str(xbow[batch, time].numpy().round(3))\n",
    "    xbow3_time = str(xbow3[batch, time].numpy().round(3))\n",
    "    print(\"{:^17}{:^18}{:^17}\".format(xbow_time, \"<--->\", xbow3_time))\n",
    "\n",
    "print()\n",
    "print(\"xbow == xbow3:\", torch.allclose(xbow, xbow3))"
   ]
  },
  {
   "cell_type": "markdown",
   "metadata": {},
   "source": [
    "### 👾 Dynamic attention"
   ]
  },
  {
   "cell_type": "code",
   "execution_count": 111,
   "metadata": {},
   "outputs": [
    {
     "data": {
      "text/plain": [
       "torch.Size([4, 8, 16])"
      ]
     },
     "execution_count": 111,
     "metadata": {},
     "output_type": "execute_result"
    }
   ],
   "source": [
    "torch.manual_seed(42)\n",
    "\n",
    "b, t, c = 4, 8, 16  # batch, time, channels\n",
    "x = torch.randn(b, t, c)\n",
    "x.shape"
   ]
  },
  {
   "cell_type": "code",
   "execution_count": 112,
   "metadata": {},
   "outputs": [],
   "source": [
    "head_size = 5\n",
    "key = nn.Linear(c, head_size, bias=False)\n",
    "query = nn.Linear(c, head_size, bias=False)\n",
    "value = nn.Linear(c, head_size, bias=False)"
   ]
  },
  {
   "cell_type": "code",
   "execution_count": 113,
   "metadata": {},
   "outputs": [],
   "source": [
    "k = key(x)  # (b, t, c) -> (b, t, head_size)\n",
    "q = query(x)  # (b, t, c) -> (b, t, head_size)\n",
    "v = value(x)  # (b, t, c) -> (b, t, head_size)\n",
    "\n",
    "# (b, t, head_size) @ (b, head_size, t) -> (b, t, t)\n",
    "wei = q @ k.transpose(-2, -1)\n",
    "\n",
    "tril = torch.tril(torch.ones(t, t))\n",
    "wei = wei.masked_fill(tril == 0, float(\"-inf\"))\n",
    "wei = F.softmax(wei, dim=-1)\n",
    "\n",
    "xbow4 = wei @ v  # (b, t, t) @ (b, t, head_size) -> (b, t, head_size)\n",
    "# xbow4 = wei @ x"
   ]
  },
  {
   "cell_type": "code",
   "execution_count": 120,
   "metadata": {},
   "outputs": [
    {
     "data": {
      "text/plain": [
       "(torch.Size([8, 8]), torch.Size([8, 5]), torch.Size([8, 5]))"
      ]
     },
     "execution_count": 120,
     "metadata": {},
     "output_type": "execute_result"
    }
   ],
   "source": [
    "wei[0].shape, v[0].shape, xbow4[0].shape"
   ]
  },
  {
   "cell_type": "code",
   "execution_count": 115,
   "metadata": {},
   "outputs": [
    {
     "data": {
      "text/plain": [
       "tensor([[1.0000, 0.0000, 0.0000, 0.0000, 0.0000, 0.0000, 0.0000, 0.0000],\n",
       "        [0.4827, 0.5173, 0.0000, 0.0000, 0.0000, 0.0000, 0.0000, 0.0000],\n",
       "        [0.3892, 0.3878, 0.2230, 0.0000, 0.0000, 0.0000, 0.0000, 0.0000],\n",
       "        [0.3354, 0.1389, 0.2629, 0.2628, 0.0000, 0.0000, 0.0000, 0.0000],\n",
       "        [0.2134, 0.2029, 0.1730, 0.2532, 0.1575, 0.0000, 0.0000, 0.0000],\n",
       "        [0.0345, 0.4175, 0.1204, 0.1324, 0.1568, 0.1384, 0.0000, 0.0000],\n",
       "        [0.0660, 0.1558, 0.1532, 0.1590, 0.1416, 0.1283, 0.1961, 0.0000],\n",
       "        [0.0611, 0.1078, 0.1269, 0.0979, 0.0864, 0.1224, 0.1889, 0.2087]],\n",
       "       grad_fn=<SelectBackward0>)"
      ]
     },
     "execution_count": 115,
     "metadata": {},
     "output_type": "execute_result"
    }
   ],
   "source": [
    "wei[0]"
   ]
  },
  {
   "cell_type": "code",
   "execution_count": 122,
   "metadata": {},
   "outputs": [
    {
     "data": {
      "text/plain": [
       "tensor([[ 0.1124, -1.7420, -1.4984,  0.2784, -1.2044],\n",
       "        [ 0.6001,  0.7585,  0.7401, -0.6920, -0.2413],\n",
       "        [ 0.6153,  0.3175, -1.2560,  0.9560,  1.1514],\n",
       "        [ 0.3441,  0.0547, -0.2634,  0.8739,  0.6132],\n",
       "        [ 0.7046,  0.7144,  0.6741, -0.8596, -0.2965],\n",
       "        [-0.2931, -0.0920, -0.2405, -0.1029, -0.1537],\n",
       "        [-0.7494,  0.8432, -0.6698,  0.5173,  0.7469],\n",
       "        [-0.3061,  0.6982, -0.1136, -0.2800,  0.3943]],\n",
       "       grad_fn=<SelectBackward0>)"
      ]
     },
     "execution_count": 122,
     "metadata": {},
     "output_type": "execute_result"
    }
   ],
   "source": [
    "v[0]"
   ]
  },
  {
   "cell_type": "code",
   "execution_count": 116,
   "metadata": {},
   "outputs": [
    {
     "data": {
      "text/plain": [
       "tensor([[ 0.1124, -1.7420, -1.4984,  0.2784, -1.2044],\n",
       "        [ 0.3647, -0.4484, -0.3404, -0.2236, -0.7062],\n",
       "        [ 0.4137, -0.3131, -0.5764,  0.0532, -0.3055],\n",
       "        [ 0.3733, -0.3810, -0.7992,  0.4782,  0.0264],\n",
       "        [ 0.4503, -0.0365, -0.3474,  0.1703,  0.0018],\n",
       "        [ 0.4439,  0.4014,  0.1436, -0.1975,  0.0098],\n",
       "        [ 0.1650,  0.3152, -0.2847,  0.1625,  0.2416],\n",
       "        [ 0.0029,  0.3765, -0.3183,  0.1017,  0.2855]],\n",
       "       grad_fn=<SelectBackward0>)"
      ]
     },
     "execution_count": 116,
     "metadata": {},
     "output_type": "execute_result"
    }
   ],
   "source": [
    "xbow4[0]"
   ]
  },
  {
   "cell_type": "code",
   "execution_count": 102,
   "metadata": {},
   "outputs": [
    {
     "data": {
      "image/png": "[encoded data removed]",
      "text/plain": [
       "<Figure size 576x480 with 2 Axes>"
      ]
     },
     "metadata": {},
     "output_type": "display_data"
    }
   ],
   "source": [
    "plt.figure(figsize=(t * 0.72, t * 0.6))\n",
    "sns.heatmap(\n",
    "    wei[0].detach().numpy(),\n",
    "    annot=True,\n",
    "    fmt=\".2f\",\n",
    "    cmap=\"coolwarm\",\n",
    "    cbar=True,\n",
    "    center=0,\n",
    ")\n",
    "plt.title(\"Masked attention weights of the first batch\")\n",
    "plt.show()"
   ]
  },
  {
   "cell_type": "code",
   "execution_count": 107,
   "metadata": {},
   "outputs": [
    {
     "data": {
      "text/plain": [
       "2.718281828459045"
      ]
     },
     "execution_count": 107,
     "metadata": {},
     "output_type": "execute_result"
    }
   ],
   "source": [
    "np.exp()"
   ]
  },
  {
   "cell_type": "code",
   "execution_count": null,
   "metadata": {},
   "outputs": [],
   "source": []
  },
  {
   "cell_type": "code",
   "execution_count": null,
   "metadata": {},
   "outputs": [],
   "source": []
  }
 ],
 "metadata": {
  "kernelspec": {
   "display_name": "env",
   "language": "python",
   "name": "python3"
  },
  "language_info": {
   "codemirror_mode": {
    "name": "ipython",
    "version": 3
   },
   "file_extension": ".py",
   "mimetype": "text/x-python",
   "name": "python",
   "nbconvert_exporter": "python",
   "pygments_lexer": "ipython3",
   "version": "3.11.5"
  }
 },
 "nbformat": 4,
 "nbformat_minor": 2
}
