{
 "cells": [
  {
   "cell_type": "markdown",
   "metadata": {},
   "source": [
    "# 🌾 Data Ingestion and Cleaning"
   ]
  },
  {
   "cell_type": "markdown",
   "metadata": {},
   "source": [
    "#### 📚 Libraries\n",
    "Import libraries and configure the environment."
   ]
  },
  {
   "cell_type": "code",
   "execution_count": 102,
   "metadata": {},
   "outputs": [],
   "source": [
    "# Misc\n",
    "from omegaconf import OmegaConf\n",
    "from tqdm import tqdm\n",
    "\n",
    "tqdm.pandas()\n",
    "\n",
    "# NLP\n",
    "import re\n",
    "import spacy\n",
    "from unidecode import unidecode\n",
    "\n",
    "# Data\n",
    "import pandas as pd\n",
    "from datasets import Dataset\n",
    "from datasets import load_dataset"
   ]
  },
  {
   "cell_type": "code",
   "execution_count": 50,
   "metadata": {},
   "outputs": [
    {
     "name": "stdout",
     "output_type": "stream",
     "text": [
      "Collecting es-core-news-lg==3.7.0\n",
      "  Downloading https://github.com/explosion/spacy-models/releases/download/es_core_news_lg-3.7.0/es_core_news_lg-3.7.0-py3-none-any.whl (568.0 MB)\n",
      "\u001b[2K     \u001b[38;2;114;156;31m━━━━━━━━━━━━━━━━━━━━━━━━━━━━━━━━━━━━━━━\u001b[0m \u001b[32m568.0/568.0 MB\u001b[0m \u001b[31m2.6 MB/s\u001b[0m eta \u001b[36m0:00:00\u001b[0mm eta \u001b[36m0:00:01\u001b[0m[36m0:00:01\u001b[0m\n",
      "\u001b[?25hRequirement already satisfied: spacy<3.8.0,>=3.7.0 in ./env/lib/python3.11/site-packages (from es-core-news-lg==3.7.0) (3.7.4)\n",
      "Requirement already satisfied: spacy-legacy<3.1.0,>=3.0.11 in ./env/lib/python3.11/site-packages (from spacy<3.8.0,>=3.7.0->es-core-news-lg==3.7.0) (3.0.12)\n",
      "Requirement already satisfied: spacy-loggers<2.0.0,>=1.0.0 in ./env/lib/python3.11/site-packages (from spacy<3.8.0,>=3.7.0->es-core-news-lg==3.7.0) (1.0.5)\n",
      "Requirement already satisfied: murmurhash<1.1.0,>=0.28.0 in ./env/lib/python3.11/site-packages (from spacy<3.8.0,>=3.7.0->es-core-news-lg==3.7.0) (1.0.10)\n",
      "Requirement already satisfied: cymem<2.1.0,>=2.0.2 in ./env/lib/python3.11/site-packages (from spacy<3.8.0,>=3.7.0->es-core-news-lg==3.7.0) (2.0.8)\n",
      "Requirement already satisfied: preshed<3.1.0,>=3.0.2 in ./env/lib/python3.11/site-packages (from spacy<3.8.0,>=3.7.0->es-core-news-lg==3.7.0) (3.0.9)\n",
      "Requirement already satisfied: thinc<8.3.0,>=8.2.2 in ./env/lib/python3.11/site-packages (from spacy<3.8.0,>=3.7.0->es-core-news-lg==3.7.0) (8.2.3)\n",
      "Requirement already satisfied: wasabi<1.2.0,>=0.9.1 in ./env/lib/python3.11/site-packages (from spacy<3.8.0,>=3.7.0->es-core-news-lg==3.7.0) (1.1.2)\n",
      "Requirement already satisfied: srsly<3.0.0,>=2.4.3 in ./env/lib/python3.11/site-packages (from spacy<3.8.0,>=3.7.0->es-core-news-lg==3.7.0) (2.4.8)\n",
      "Requirement already satisfied: catalogue<2.1.0,>=2.0.6 in ./env/lib/python3.11/site-packages (from spacy<3.8.0,>=3.7.0->es-core-news-lg==3.7.0) (2.0.10)\n",
      "Requirement already satisfied: weasel<0.4.0,>=0.1.0 in ./env/lib/python3.11/site-packages (from spacy<3.8.0,>=3.7.0->es-core-news-lg==3.7.0) (0.3.4)\n",
      "Requirement already satisfied: typer<0.10.0,>=0.3.0 in ./env/lib/python3.11/site-packages (from spacy<3.8.0,>=3.7.0->es-core-news-lg==3.7.0) (0.9.0)\n",
      "Requirement already satisfied: smart-open<7.0.0,>=5.2.1 in ./env/lib/python3.11/site-packages (from spacy<3.8.0,>=3.7.0->es-core-news-lg==3.7.0) (6.4.0)\n",
      "Requirement already satisfied: tqdm<5.0.0,>=4.38.0 in ./env/lib/python3.11/site-packages (from spacy<3.8.0,>=3.7.0->es-core-news-lg==3.7.0) (4.66.2)\n",
      "Requirement already satisfied: requests<3.0.0,>=2.13.0 in ./env/lib/python3.11/site-packages (from spacy<3.8.0,>=3.7.0->es-core-news-lg==3.7.0) (2.31.0)\n",
      "Requirement already satisfied: pydantic!=1.8,!=1.8.1,<3.0.0,>=1.7.4 in ./env/lib/python3.11/site-packages (from spacy<3.8.0,>=3.7.0->es-core-news-lg==3.7.0) (2.6.3)\n",
      "Requirement already satisfied: jinja2 in ./env/lib/python3.11/site-packages (from spacy<3.8.0,>=3.7.0->es-core-news-lg==3.7.0) (3.1.3)\n",
      "Requirement already satisfied: setuptools in ./env/lib/python3.11/site-packages (from spacy<3.8.0,>=3.7.0->es-core-news-lg==3.7.0) (69.1.1)\n",
      "Requirement already satisfied: packaging>=20.0 in ./env/lib/python3.11/site-packages (from spacy<3.8.0,>=3.7.0->es-core-news-lg==3.7.0) (23.2)\n",
      "Requirement already satisfied: langcodes<4.0.0,>=3.2.0 in ./env/lib/python3.11/site-packages (from spacy<3.8.0,>=3.7.0->es-core-news-lg==3.7.0) (3.3.0)\n",
      "Requirement already satisfied: numpy>=1.19.0 in ./env/lib/python3.11/site-packages (from spacy<3.8.0,>=3.7.0->es-core-news-lg==3.7.0) (1.26.4)\n",
      "Requirement already satisfied: annotated-types>=0.4.0 in ./env/lib/python3.11/site-packages (from pydantic!=1.8,!=1.8.1,<3.0.0,>=1.7.4->spacy<3.8.0,>=3.7.0->es-core-news-lg==3.7.0) (0.6.0)\n",
      "Requirement already satisfied: pydantic-core==2.16.3 in ./env/lib/python3.11/site-packages (from pydantic!=1.8,!=1.8.1,<3.0.0,>=1.7.4->spacy<3.8.0,>=3.7.0->es-core-news-lg==3.7.0) (2.16.3)\n",
      "Requirement already satisfied: typing-extensions>=4.6.1 in ./env/lib/python3.11/site-packages (from pydantic!=1.8,!=1.8.1,<3.0.0,>=1.7.4->spacy<3.8.0,>=3.7.0->es-core-news-lg==3.7.0) (4.10.0)\n",
      "Requirement already satisfied: charset-normalizer<4,>=2 in ./env/lib/python3.11/site-packages (from requests<3.0.0,>=2.13.0->spacy<3.8.0,>=3.7.0->es-core-news-lg==3.7.0) (3.3.2)\n",
      "Requirement already satisfied: idna<4,>=2.5 in ./env/lib/python3.11/site-packages (from requests<3.0.0,>=2.13.0->spacy<3.8.0,>=3.7.0->es-core-news-lg==3.7.0) (3.6)\n",
      "Requirement already satisfied: urllib3<3,>=1.21.1 in ./env/lib/python3.11/site-packages (from requests<3.0.0,>=2.13.0->spacy<3.8.0,>=3.7.0->es-core-news-lg==3.7.0) (2.2.1)\n",
      "Requirement already satisfied: certifi>=2017.4.17 in ./env/lib/python3.11/site-packages (from requests<3.0.0,>=2.13.0->spacy<3.8.0,>=3.7.0->es-core-news-lg==3.7.0) (2024.2.2)\n",
      "Requirement already satisfied: blis<0.8.0,>=0.7.8 in ./env/lib/python3.11/site-packages (from thinc<8.3.0,>=8.2.2->spacy<3.8.0,>=3.7.0->es-core-news-lg==3.7.0) (0.7.11)\n",
      "Requirement already satisfied: confection<1.0.0,>=0.0.1 in ./env/lib/python3.11/site-packages (from thinc<8.3.0,>=8.2.2->spacy<3.8.0,>=3.7.0->es-core-news-lg==3.7.0) (0.1.4)\n",
      "Requirement already satisfied: click<9.0.0,>=7.1.1 in ./env/lib/python3.11/site-packages (from typer<0.10.0,>=0.3.0->spacy<3.8.0,>=3.7.0->es-core-news-lg==3.7.0) (8.1.7)\n",
      "Requirement already satisfied: cloudpathlib<0.17.0,>=0.7.0 in ./env/lib/python3.11/site-packages (from weasel<0.4.0,>=0.1.0->spacy<3.8.0,>=3.7.0->es-core-news-lg==3.7.0) (0.16.0)\n",
      "Requirement already satisfied: MarkupSafe>=2.0 in ./env/lib/python3.11/site-packages (from jinja2->spacy<3.8.0,>=3.7.0->es-core-news-lg==3.7.0) (2.1.5)\n",
      "Installing collected packages: es-core-news-lg\n",
      "Successfully installed es-core-news-lg-3.7.0\n",
      "\u001b[38;5;2m✔ Download and installation successful\u001b[0m\n",
      "You can now load the package via spacy.load('es_core_news_lg')\n"
     ]
    }
   ],
   "source": [
    "! python -m spacy download es_core_news_lg"
   ]
  },
  {
   "cell_type": "code",
   "execution_count": 90,
   "metadata": {},
   "outputs": [],
   "source": [
    "nlp = spacy.load(\"es_core_news_lg\", disable=[\"parser\", \"ner\"])"
   ]
  },
  {
   "cell_type": "markdown",
   "metadata": {},
   "source": [
    "#### 📂 Data\n",
    "Load the data and take a look at the first few rows."
   ]
  },
  {
   "cell_type": "code",
   "execution_count": 8,
   "metadata": {},
   "outputs": [
    {
     "data": {
      "application/vnd.jupyter.widget-view+json": {
       "model_id": "293bc7a1858848c288293ba9a5e3731c",
       "version_major": 2,
       "version_minor": 0
      },
      "text/plain": [
       "Downloading readme:   0%|          | 0.00/640 [00:00<?, ?B/s]"
      ]
     },
     "metadata": {},
     "output_type": "display_data"
    },
    {
     "name": "stderr",
     "output_type": "stream",
     "text": [
      "Downloading data: 100%|██████████| 140M/140M [00:11<00:00, 11.7MB/s] \n",
      "Downloading data: 100%|██████████| 46.6M/46.6M [00:03<00:00, 12.5MB/s]\n",
      "Downloading data: 100%|██████████| 46.3M/46.3M [00:03<00:00, 12.5MB/s]\n"
     ]
    },
    {
     "data": {
      "application/vnd.jupyter.widget-view+json": {
       "model_id": "7c983158d60841fc8763dd993a2c2e1a",
       "version_major": 2,
       "version_minor": 0
      },
      "text/plain": [
       "Generating train split:   0%|          | 0/13460 [00:00<?, ? examples/s]"
      ]
     },
     "metadata": {},
     "output_type": "display_data"
    },
    {
     "data": {
      "application/vnd.jupyter.widget-view+json": {
       "model_id": "aaae02c3e1944a12b96d887d05d1ab36",
       "version_major": 2,
       "version_minor": 0
      },
      "text/plain": [
       "Generating validation split:   0%|          | 0/4487 [00:00<?, ? examples/s]"
      ]
     },
     "metadata": {},
     "output_type": "display_data"
    },
    {
     "data": {
      "application/vnd.jupyter.widget-view+json": {
       "model_id": "d7d34aee5c8e451da4c05ab5b7d87ec2",
       "version_major": 2,
       "version_minor": 0
      },
      "text/plain": [
       "Generating test split:   0%|          | 0/4487 [00:00<?, ? examples/s]"
      ]
     },
     "metadata": {},
     "output_type": "display_data"
    },
    {
     "data": {
      "text/plain": [
       "DatasetDict({\n",
       "    train: Dataset({\n",
       "        features: ['id_doc', 'doc_text'],\n",
       "        num_rows: 13460\n",
       "    })\n",
       "    validation: Dataset({\n",
       "        features: ['id_doc', 'doc_text'],\n",
       "        num_rows: 4487\n",
       "    })\n",
       "    test: Dataset({\n",
       "        features: ['id_doc', 'doc_text'],\n",
       "        num_rows: 4487\n",
       "    })\n",
       "})"
      ]
     },
     "execution_count": 8,
     "metadata": {},
     "output_type": "execute_result"
    }
   ],
   "source": [
    "dataset = load_dataset(\"Santp98/Secop2_documents\")\n",
    "dataset"
   ]
  },
  {
   "cell_type": "code",
   "execution_count": 20,
   "metadata": {},
   "outputs": [],
   "source": [
    "train_df = dataset[\"train\"].to_pandas()\n",
    "val_df = dataset[\"validation\"].to_pandas()\n",
    "test_df = dataset[\"test\"].to_pandas()\n",
    "\n",
    "secop_df = pd.concat([train_df, val_df, test_df]).reset_index(drop=True)"
   ]
  },
  {
   "cell_type": "code",
   "execution_count": 21,
   "metadata": {},
   "outputs": [
    {
     "name": "stdout",
     "output_type": "stream",
     "text": [
      "Shape: (22434, 2)\n"
     ]
    },
    {
     "data": {
      "text/html": [
       "<div>\n",
       "<style scoped>\n",
       "    .dataframe tbody tr th:only-of-type {\n",
       "        vertical-align: middle;\n",
       "    }\n",
       "\n",
       "    .dataframe tbody tr th {\n",
       "        vertical-align: top;\n",
       "    }\n",
       "\n",
       "    .dataframe thead th {\n",
       "        text-align: right;\n",
       "    }\n",
       "</style>\n",
       "<table border=\"1\" class=\"dataframe\">\n",
       "  <thead>\n",
       "    <tr style=\"text-align: right;\">\n",
       "      <th></th>\n",
       "      <th>id_doc</th>\n",
       "      <th>doc_text</th>\n",
       "    </tr>\n",
       "  </thead>\n",
       "  <tbody>\n",
       "    <tr>\n",
       "      <th>0</th>\n",
       "      <td>266671326</td>\n",
       "      <td>SOLICITUD  CERTIFICACIÓN  DE \\nINSUFICIENCIA ...</td>\n",
       "    </tr>\n",
       "    <tr>\n",
       "      <th>1</th>\n",
       "      <td>267836089</td>\n",
       "      <td>Usuario Solicitante:\\nUnidad ó Subunidad \\nEje...</td>\n",
       "    </tr>\n",
       "    <tr>\n",
       "      <th>2</th>\n",
       "      <td>321522708</td>\n",
       "      <td>ADENDA  Página  1  \\n \\n ADENDA No. 1 \\n \\nPe...</td>\n",
       "    </tr>\n",
       "    <tr>\n",
       "      <th>3</th>\n",
       "      <td>302712756</td>\n",
       "      <td>HOSPITAL SAN JUAN BAUTISTA \\nSEDE HOSP. SAN JU...</td>\n",
       "    </tr>\n",
       "    <tr>\n",
       "      <th>4</th>\n",
       "      <td>291869951</td>\n",
       "      <td>\\n  \\n \\n \\nSISTEMA ESTRATÉGICO DE TRANSPORTE...</td>\n",
       "    </tr>\n",
       "  </tbody>\n",
       "</table>\n",
       "</div>"
      ],
      "text/plain": [
       "      id_doc                                           doc_text\n",
       "0  266671326   SOLICITUD  CERTIFICACIÓN  DE \\nINSUFICIENCIA ...\n",
       "1  267836089  Usuario Solicitante:\\nUnidad ó Subunidad \\nEje...\n",
       "2  321522708   ADENDA  Página  1  \\n \\n ADENDA No. 1 \\n \\nPe...\n",
       "3  302712756  HOSPITAL SAN JUAN BAUTISTA \\nSEDE HOSP. SAN JU...\n",
       "4  291869951   \\n  \\n \\n \\nSISTEMA ESTRATÉGICO DE TRANSPORTE..."
      ]
     },
     "execution_count": 21,
     "metadata": {},
     "output_type": "execute_result"
    }
   ],
   "source": [
    "print(\"Shape:\", secop_df.shape)\n",
    "secop_df.head()"
   ]
  },
  {
   "cell_type": "markdown",
   "metadata": {},
   "source": [
    "#### 🧼 Data Cleaning\n",
    "Clean the data by removing rows with low quality text.\n"
   ]
  },
  {
   "cell_type": "code",
   "execution_count": 85,
   "metadata": {},
   "outputs": [],
   "source": [
    "def clean_text(text: str, normalize: bool = False) -> str:\n",
    "    \"\"\"General text cleaning and normalization function.\"\"\"\n",
    "    text = text.replace(\"\\n\", \" \").replace(\"\\r\", \" \")\n",
    "    text = re.sub(r\" +\", \" \", text)\n",
    "    text = re.sub(r\"[^\\w\\s]\", \"\", text)\n",
    "    text = text.lower()\n",
    "    if normalize:\n",
    "        text = unidecode(text)\n",
    "    return text"
   ]
  },
  {
   "cell_type": "code",
   "execution_count": 86,
   "metadata": {},
   "outputs": [],
   "source": [
    "def is_high_quality(\n",
    "    doc: str,\n",
    "    min_len: int = 200,\n",
    "    max_len: int = 50000,\n",
    "    max_special_char_ratio: float = 0.05,\n",
    "    max_oov_ratio: float = 0.10,\n",
    ") -> str:\n",
    "    \"\"\"Check if a document is of high quality.\"\"\"\n",
    "    # Check length criteria\n",
    "    if len(doc) < min_len:\n",
    "        return f\"Too short: {len(doc)} characters\"\n",
    "    if len(doc) > max_len:\n",
    "        return f\"Too long: {len(doc)} characters\"\n",
    "\n",
    "    # Check special characters\n",
    "    special_chars = re.findall(r\"[^\\w\\s]\", doc)\n",
    "    special_char_ratio = len(special_chars) / len(doc)\n",
    "    if special_char_ratio > max_special_char_ratio:\n",
    "        return f\"Too many special characters: {special_char_ratio:.1%}\"\n",
    "\n",
    "    # Basic check for non-dictionary words using spaCy\n",
    "    doc_nlp = nlp(clean_text(doc))\n",
    "    oov_words = [token.text for token in doc_nlp if token.is_oov]\n",
    "    all_words = [token.text for token in doc_nlp]\n",
    "    oov_ratio = len(oov_words) / len(all_words)\n",
    "    if oov_ratio > max_oov_ratio:\n",
    "        return f\"Too many out of vocabulary words: {oov_ratio:.1%}\"\n",
    "\n",
    "    return f\"High quality: {oov_ratio:.1%}\""
   ]
  },
  {
   "cell_type": "code",
   "execution_count": 87,
   "metadata": {},
   "outputs": [
    {
     "data": {
      "text/plain": [
       "0                         High quality: 3.0%\n",
       "1    Too many out of vocabulary words: 11.4%\n",
       "2                         High quality: 9.4%\n",
       "3    Too many out of vocabulary words: 14.0%\n",
       "4                         High quality: 4.1%\n",
       "Name: doc_text, dtype: object"
      ]
     },
     "execution_count": 87,
     "metadata": {},
     "output_type": "execute_result"
    }
   ],
   "source": [
    "cleaning_params = dict(\n",
    "    min_len=200, max_len=50000, max_special_char_ratio=0.05, max_oov_ratio=0.10\n",
    ")\n",
    "secop_df.head()[\"doc_text\"].apply(is_high_quality, **cleaning_params)"
   ]
  },
  {
   "cell_type": "code",
   "execution_count": 91,
   "metadata": {},
   "outputs": [
    {
     "name": "stderr",
     "output_type": "stream",
     "text": [
      "100%|██████████| 22434/22434 [19:45<00:00, 18.93it/s]\n"
     ]
    }
   ],
   "source": [
    "secop_df[\"quality\"] = secop_df[\"doc_text\"].progress_apply(\n",
    "    is_high_quality, **cleaning_params\n",
    ")"
   ]
  },
  {
   "cell_type": "code",
   "execution_count": 92,
   "metadata": {},
   "outputs": [],
   "source": [
    "quality_mask = secop_df[\"quality\"].str.startswith(\"High quality\")\n",
    "secop_clean_df = secop_df.loc[quality_mask].reset_index(drop=True)"
   ]
  },
  {
   "cell_type": "code",
   "execution_count": 94,
   "metadata": {},
   "outputs": [
    {
     "data": {
      "text/html": [
       "<div>\n",
       "<style scoped>\n",
       "    .dataframe tbody tr th:only-of-type {\n",
       "        vertical-align: middle;\n",
       "    }\n",
       "\n",
       "    .dataframe tbody tr th {\n",
       "        vertical-align: top;\n",
       "    }\n",
       "\n",
       "    .dataframe thead th {\n",
       "        text-align: right;\n",
       "    }\n",
       "</style>\n",
       "<table border=\"1\" class=\"dataframe\">\n",
       "  <thead>\n",
       "    <tr style=\"text-align: right;\">\n",
       "      <th></th>\n",
       "      <th>id_doc</th>\n",
       "      <th>doc_text</th>\n",
       "      <th>quality</th>\n",
       "    </tr>\n",
       "  </thead>\n",
       "  <tbody>\n",
       "    <tr>\n",
       "      <th>0</th>\n",
       "      <td>266671326</td>\n",
       "      <td>SOLICITUD  CERTIFICACIÓN  DE \\nINSUFICIENCIA ...</td>\n",
       "      <td>High quality: 3.0%</td>\n",
       "    </tr>\n",
       "    <tr>\n",
       "      <th>1</th>\n",
       "      <td>321522708</td>\n",
       "      <td>ADENDA  Página  1  \\n \\n ADENDA No. 1 \\n \\nPe...</td>\n",
       "      <td>High quality: 9.4%</td>\n",
       "    </tr>\n",
       "    <tr>\n",
       "      <th>2</th>\n",
       "      <td>291869951</td>\n",
       "      <td>\\n  \\n \\n \\nSISTEMA ESTRATÉGICO DE TRANSPORTE...</td>\n",
       "      <td>High quality: 4.1%</td>\n",
       "    </tr>\n",
       "    <tr>\n",
       "      <th>3</th>\n",
       "      <td>291901564</td>\n",
       "      <td>CERTIFICACION DE INSUFICIENCIA\\nVIGENTE\\nDESDE...</td>\n",
       "      <td>High quality: 5.7%</td>\n",
       "    </tr>\n",
       "    <tr>\n",
       "      <th>4</th>\n",
       "      <td>304566990</td>\n",
       "      <td>ANE XO Nro. 2 \\nOBLIGACIONES DE LA POLICÍA NAC...</td>\n",
       "      <td>High quality: 2.8%</td>\n",
       "    </tr>\n",
       "    <tr>\n",
       "      <th>...</th>\n",
       "      <td>...</td>\n",
       "      <td>...</td>\n",
       "      <td>...</td>\n",
       "    </tr>\n",
       "    <tr>\n",
       "      <th>10929</th>\n",
       "      <td>298317779</td>\n",
       "      <td>CONTRATO DE PRESTACIÓN DE SERVICIOS DE APOYO A...</td>\n",
       "      <td>High quality: 3.3%</td>\n",
       "    </tr>\n",
       "    <tr>\n",
       "      <th>10930</th>\n",
       "      <td>336194098</td>\n",
       "      <td>Turbaco Bolívar, Dieciocho (18) de Agosto de 2...</td>\n",
       "      <td>High quality: 2.7%</td>\n",
       "    </tr>\n",
       "    <tr>\n",
       "      <th>10931</th>\n",
       "      <td>320617007</td>\n",
       "      <td>UNIVERSIDAD MILITAR NUEVA GRANADA \\n \\nFORMATO...</td>\n",
       "      <td>High quality: 5.6%</td>\n",
       "    </tr>\n",
       "    <tr>\n",
       "      <th>10932</th>\n",
       "      <td>300752050</td>\n",
       "      <td>\\n \\n \\n \\nLA CONTRALORÍA DELEGADA PARA RESPO...</td>\n",
       "      <td>High quality: 6.3%</td>\n",
       "    </tr>\n",
       "    <tr>\n",
       "      <th>10933</th>\n",
       "      <td>305143638</td>\n",
       "      <td>ACTA DE INFORME DE ORDENES DE \\nPRESTACIÓN DE ...</td>\n",
       "      <td>High quality: 5.1%</td>\n",
       "    </tr>\n",
       "  </tbody>\n",
       "</table>\n",
       "<p>10934 rows × 3 columns</p>\n",
       "</div>"
      ],
      "text/plain": [
       "          id_doc                                           doc_text  \\\n",
       "0      266671326   SOLICITUD  CERTIFICACIÓN  DE \\nINSUFICIENCIA ...   \n",
       "1      321522708   ADENDA  Página  1  \\n \\n ADENDA No. 1 \\n \\nPe...   \n",
       "2      291869951   \\n  \\n \\n \\nSISTEMA ESTRATÉGICO DE TRANSPORTE...   \n",
       "3      291901564  CERTIFICACION DE INSUFICIENCIA\\nVIGENTE\\nDESDE...   \n",
       "4      304566990  ANE XO Nro. 2 \\nOBLIGACIONES DE LA POLICÍA NAC...   \n",
       "...          ...                                                ...   \n",
       "10929  298317779  CONTRATO DE PRESTACIÓN DE SERVICIOS DE APOYO A...   \n",
       "10930  336194098  Turbaco Bolívar, Dieciocho (18) de Agosto de 2...   \n",
       "10931  320617007  UNIVERSIDAD MILITAR NUEVA GRANADA \\n \\nFORMATO...   \n",
       "10932  300752050   \\n \\n \\n \\nLA CONTRALORÍA DELEGADA PARA RESPO...   \n",
       "10933  305143638  ACTA DE INFORME DE ORDENES DE \\nPRESTACIÓN DE ...   \n",
       "\n",
       "                  quality  \n",
       "0      High quality: 3.0%  \n",
       "1      High quality: 9.4%  \n",
       "2      High quality: 4.1%  \n",
       "3      High quality: 5.7%  \n",
       "4      High quality: 2.8%  \n",
       "...                   ...  \n",
       "10929  High quality: 3.3%  \n",
       "10930  High quality: 2.7%  \n",
       "10931  High quality: 5.6%  \n",
       "10932  High quality: 6.3%  \n",
       "10933  High quality: 5.1%  \n",
       "\n",
       "[10934 rows x 3 columns]"
      ]
     },
     "execution_count": 94,
     "metadata": {},
     "output_type": "execute_result"
    }
   ],
   "source": [
    "secop_clean_df"
   ]
  },
  {
   "cell_type": "code",
   "execution_count": 96,
   "metadata": {},
   "outputs": [],
   "source": [
    "clean_dataset = Dataset.from_pandas(secop_clean_df[[\"id_doc\", \"doc_text\"]])"
   ]
  },
  {
   "cell_type": "code",
   "execution_count": 101,
   "metadata": {},
   "outputs": [
    {
     "data": {
      "application/vnd.jupyter.widget-view+json": {
       "model_id": "1a24f07331ac47f3b3d0f079dd0c58d2",
       "version_major": 2,
       "version_minor": 0
      },
      "text/plain": [
       "Uploading the dataset shards:   0%|          | 0/1 [00:00<?, ?it/s]"
      ]
     },
     "metadata": {},
     "output_type": "display_data"
    },
    {
     "data": {
      "application/vnd.jupyter.widget-view+json": {
       "model_id": "564e71c1fb5c48848fb2d73a35f9da83",
       "version_major": 2,
       "version_minor": 0
      },
      "text/plain": [
       "Creating parquet from Arrow format:   0%|          | 0/11 [00:00<?, ?ba/s]"
      ]
     },
     "metadata": {},
     "output_type": "display_data"
    },
    {
     "data": {
      "text/plain": [
       "CommitInfo(commit_url='https://huggingface.co/datasets/dewithsan/secop_corpus_clean/commit/7ae8c3ae2d0d5abcabdb889ef3ce338e9ab68db7', commit_message='Upload dataset', commit_description='', oid='7ae8c3ae2d0d5abcabdb889ef3ce338e9ab68db7', pr_url=None, pr_revision=None, pr_num=None)"
      ]
     },
     "execution_count": 101,
     "metadata": {},
     "output_type": "execute_result"
    }
   ],
   "source": [
    "config = OmegaConf.load(\"conf/local.yml\")\n",
    "clean_dataset.push_to_hub(\"dewithsan/secop_corpus_clean\", token=config[\"hf_key\"])"
   ]
  },
  {
   "cell_type": "code",
   "execution_count": 93,
   "metadata": {},
   "outputs": [],
   "source": [
    "secop_clean_df.to_csv(\"data/secop_corpus.csv\", index=False)"
   ]
  }
 ],
 "metadata": {
  "kernelspec": {
   "display_name": "venv",
   "language": "python",
   "name": "python3"
  },
  "language_info": {
   "codemirror_mode": {
    "name": "ipython",
    "version": 3
   },
   "file_extension": ".py",
   "mimetype": "text/x-python",
   "name": "python",
   "nbconvert_exporter": "python",
   "pygments_lexer": "ipython3",
   "version": "3.11.5"
  }
 },
 "nbformat": 4,
 "nbformat_minor": 2
}
