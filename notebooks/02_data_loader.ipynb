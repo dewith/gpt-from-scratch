{
 "cells": [
  {
   "cell_type": "markdown",
   "metadata": {},
   "source": [
    "# 🦖 Data Loader"
   ]
  },
  {
   "cell_type": "markdown",
   "metadata": {},
   "source": [
    "#### 📚 Libraries\n",
    "Import libraries and configure the environment."
   ]
  },
  {
   "cell_type": "code",
   "execution_count": 34,
   "metadata": {},
   "outputs": [],
   "source": [
    "import json\n",
    "import torch"
   ]
  },
  {
   "cell_type": "markdown",
   "metadata": {},
   "source": [
    "#### 📂 Data\n",
    "Load the data from local."
   ]
  },
  {
   "cell_type": "code",
   "execution_count": 35,
   "metadata": {},
   "outputs": [],
   "source": [
    "train_data = torch.load(\"data/train_data.pt\")\n",
    "val_data = torch.load(\"data/val_data.pt\")"
   ]
  },
  {
   "cell_type": "code",
   "execution_count": 36,
   "metadata": {},
   "outputs": [],
   "source": [
    "with open(\"data/encoder_dict.json\", \"r\") as f:\n",
    "    encoder_dict = json.load(f)\n",
    "\n",
    "stoi = encoder_dict[\"stoi\"]\n",
    "itos = encoder_dict[\"itos\"]\n",
    "itos = {int(k): v for k, v in encoder_dict[\"itos\"].items()}"
   ]
  },
  {
   "cell_type": "code",
   "execution_count": 37,
   "metadata": {},
   "outputs": [],
   "source": [
    "def decode(integers: list, itos: dict = itos) -> str:\n",
    "    \"\"\"Decode list of integers to text.\"\"\"\n",
    "    return \"\".join([itos[i] for i in integers])"
   ]
  },
  {
   "cell_type": "markdown",
   "metadata": {},
   "source": [
    "#### 🦮 Batches of data"
   ]
  },
  {
   "cell_type": "markdown",
   "metadata": {},
   "source": [
    "**Test the data loader**"
   ]
  },
  {
   "cell_type": "code",
   "execution_count": 38,
   "metadata": {},
   "outputs": [],
   "source": [
    "torch.manual_seed(42)\n",
    "\n",
    "batch_size = 4  # how many samples to process at once\n",
    "block_size = 8  # the context length\n",
    "\n",
    "\n",
    "def get_batch(split):\n",
    "    \"\"\"Generates a small batch of data of inputs x and targets y\"\"\"\n",
    "    data = train_data if split == \"train\" else val_data\n",
    "    # starting index of each sequence\n",
    "    ix = torch.randint(len(data) - block_size, (batch_size,))\n",
    "    # the sequences\n",
    "    x = torch.stack([data[i : i + block_size] for i in ix])\n",
    "    # the sequences shifted by 1\n",
    "    y = torch.stack([data[i + 1 : i + block_size + 1] for i in ix])\n",
    "    return x, y"
   ]
  },
  {
   "cell_type": "code",
   "execution_count": 39,
   "metadata": {},
   "outputs": [
    {
     "name": "stdout",
     "output_type": "stream",
     "text": [
      "Inputs\n",
      "torch.Size([4, 8])\n",
      "tensor([[85, 72, 74, 76, 86, 87, 85, 82],\n",
      "        [88, 81,  9, 86, 88, 86,  9, 70],\n",
      "        [86, 72, 81, 68, 79, 68, 85,  9],\n",
      "        [83, 72, 85, 86, 82, 81, 68, 79]])\n",
      "\n",
      "Targets\n",
      "torch.Size([4, 8])\n",
      "tensor([[72, 74, 76, 86, 87, 85, 82,  9],\n",
      "        [81,  9, 86, 88, 86,  9, 70, 82],\n",
      "        [72, 81, 68, 79, 68, 85,  9, 84],\n",
      "        [72, 85, 86, 82, 81, 68, 79,  9]])\n"
     ]
    }
   ],
   "source": [
    "xb, yb = get_batch(\"train\")\n",
    "\n",
    "print(\"Inputs\")\n",
    "print(xb.shape)\n",
    "print(xb)\n",
    "print()\n",
    "print(\"Targets\")\n",
    "print(yb.shape)\n",
    "print(yb)"
   ]
  },
  {
   "cell_type": "code",
   "execution_count": 40,
   "metadata": {},
   "outputs": [
    {
     "name": "stdout",
     "output_type": "stream",
     "text": [
      "Batch 1\n",
      "1: [85] -> 72\n",
      "2: [85, 72] -> 74\n",
      "3: [85, 72, 74] -> 76\n",
      "4: [85, 72, 74, 76] -> 86\n",
      "5: [85, 72, 74, 76, 86] -> 87\n",
      "6: [85, 72, 74, 76, 86, 87] -> 85\n",
      "7: [85, 72, 74, 76, 86, 87, 85] -> 82\n",
      "8: [85, 72, 74, 76, 86, 87, 85, 82] -> 9\n",
      "----------\n",
      "Batch 2\n",
      "1: [88] -> 81\n",
      "2: [88, 81] -> 9\n",
      "3: [88, 81, 9] -> 86\n",
      "4: [88, 81, 9, 86] -> 88\n",
      "5: [88, 81, 9, 86, 88] -> 86\n",
      "6: [88, 81, 9, 86, 88, 86] -> 9\n",
      "7: [88, 81, 9, 86, 88, 86, 9] -> 70\n",
      "8: [88, 81, 9, 86, 88, 86, 9, 70] -> 82\n",
      "----------\n",
      "Batch 3\n",
      "1: [86] -> 72\n",
      "2: [86, 72] -> 81\n",
      "3: [86, 72, 81] -> 68\n",
      "4: [86, 72, 81, 68] -> 79\n",
      "5: [86, 72, 81, 68, 79] -> 68\n",
      "6: [86, 72, 81, 68, 79, 68] -> 85\n",
      "7: [86, 72, 81, 68, 79, 68, 85] -> 9\n",
      "8: [86, 72, 81, 68, 79, 68, 85, 9] -> 84\n",
      "----------\n",
      "Batch 4\n",
      "1: [83] -> 72\n",
      "2: [83, 72] -> 85\n",
      "3: [83, 72, 85] -> 86\n",
      "4: [83, 72, 85, 86] -> 82\n",
      "5: [83, 72, 85, 86, 82] -> 81\n",
      "6: [83, 72, 85, 86, 82, 81] -> 68\n",
      "7: [83, 72, 85, 86, 82, 81, 68] -> 79\n",
      "8: [83, 72, 85, 86, 82, 81, 68, 79] -> 9\n",
      "----------\n"
     ]
    }
   ],
   "source": [
    "for batch in range(batch_size):\n",
    "    print(f\"Batch {batch+1}\")\n",
    "    for time in range(block_size):\n",
    "        context = xb[batch, : time + 1]\n",
    "        target = yb[batch, time]\n",
    "        print(f\"{time+1}: {context.tolist()} -> {target}\")\n",
    "    print(\"-\" * 10)"
   ]
  },
  {
   "cell_type": "code",
   "execution_count": 41,
   "metadata": {},
   "outputs": [
    {
     "name": "stdout",
     "output_type": "stream",
     "text": [
      "Batch 1\n",
      "1: r -> e\n",
      "2: re -> g\n",
      "3: reg -> i\n",
      "4: regi -> s\n",
      "5: regis -> t\n",
      "6: regist -> r\n",
      "7: registr -> o\n",
      "8: registro ->  \n",
      "----------\n",
      "Batch 2\n",
      "1: u -> n\n",
      "2: un ->  \n",
      "3: un  -> s\n",
      "4: un s -> u\n",
      "5: un su -> s\n",
      "6: un sus ->  \n",
      "7: un sus  -> c\n",
      "8: un sus c -> o\n",
      "----------\n",
      "Batch 3\n",
      "1: s -> e\n",
      "2: se -> n\n",
      "3: sen -> a\n",
      "4: sena -> l\n",
      "5: senal -> a\n",
      "6: senala -> r\n",
      "7: senalar ->  \n",
      "8: senalar  -> q\n",
      "----------\n",
      "Batch 4\n",
      "1: p -> e\n",
      "2: pe -> r\n",
      "3: per -> s\n",
      "4: pers -> o\n",
      "5: perso -> n\n",
      "6: person -> a\n",
      "7: persona -> l\n",
      "8: personal ->  \n",
      "----------\n"
     ]
    }
   ],
   "source": [
    "for batch in range(batch_size):\n",
    "    print(f\"Batch {batch+1}\")\n",
    "    for time in range(block_size):\n",
    "        context = decode(xb[batch, : time + 1].tolist())\n",
    "        target = decode([int(yb[batch, time])])\n",
    "        print(f\"{time+1}: {context} -> {target}\")\n",
    "    print(\"-\" * 10)"
   ]
  },
  {
   "cell_type": "code",
   "execution_count": null,
   "metadata": {},
   "outputs": [],
   "source": []
  }
 ],
 "metadata": {
  "kernelspec": {
   "display_name": "env",
   "language": "python",
   "name": "python3"
  },
  "language_info": {
   "codemirror_mode": {
    "name": "ipython",
    "version": 3
   },
   "file_extension": ".py",
   "mimetype": "text/x-python",
   "name": "python",
   "nbconvert_exporter": "python",
   "pygments_lexer": "ipython3",
   "version": "3.11.5"
  }
 },
 "nbformat": 4,
 "nbformat_minor": 2
}
