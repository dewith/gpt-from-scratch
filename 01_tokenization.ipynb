{
 "cells": [
  {
   "cell_type": "markdown",
   "metadata": {},
   "source": [
    "# 🦕 Tokenizer"
   ]
  },
  {
   "cell_type": "markdown",
   "metadata": {},
   "source": [
    "#### 📚 Libraries\n",
    "Import libraries and configure the environment."
   ]
  },
  {
   "cell_type": "code",
   "execution_count": 1,
   "metadata": {},
   "outputs": [],
   "source": [
    "# NLP\n",
    "import re\n",
    "from unidecode import unidecode\n",
    "\n",
    "# Data\n",
    "import json\n",
    "from datasets import load_dataset\n",
    "\n",
    "# DL\n",
    "import torch"
   ]
  },
  {
   "cell_type": "markdown",
   "metadata": {},
   "source": [
    "#### 📂 Data\n",
    "Load the data and take a look at the first few rows."
   ]
  },
  {
   "cell_type": "code",
   "execution_count": 2,
   "metadata": {},
   "outputs": [],
   "source": [
    "dataset = load_dataset(\"dewithsan/secop_corpus_clean\")"
   ]
  },
  {
   "cell_type": "code",
   "execution_count": 3,
   "metadata": {},
   "outputs": [
    {
     "data": {
      "text/html": [
       "<div>\n",
       "<style scoped>\n",
       "    .dataframe tbody tr th:only-of-type {\n",
       "        vertical-align: middle;\n",
       "    }\n",
       "\n",
       "    .dataframe tbody tr th {\n",
       "        vertical-align: top;\n",
       "    }\n",
       "\n",
       "    .dataframe thead th {\n",
       "        text-align: right;\n",
       "    }\n",
       "</style>\n",
       "<table border=\"1\" class=\"dataframe\">\n",
       "  <thead>\n",
       "    <tr style=\"text-align: right;\">\n",
       "      <th></th>\n",
       "      <th>id_doc</th>\n",
       "      <th>doc_text</th>\n",
       "    </tr>\n",
       "  </thead>\n",
       "  <tbody>\n",
       "    <tr>\n",
       "      <th>0</th>\n",
       "      <td>266671326</td>\n",
       "      <td>SOLICITUD  CERTIFICACIÓN  DE \\nINSUFICIENCIA ...</td>\n",
       "    </tr>\n",
       "    <tr>\n",
       "      <th>1</th>\n",
       "      <td>321522708</td>\n",
       "      <td>ADENDA  Página  1  \\n \\n ADENDA No. 1 \\n \\nPe...</td>\n",
       "    </tr>\n",
       "    <tr>\n",
       "      <th>2</th>\n",
       "      <td>291869951</td>\n",
       "      <td>\\n  \\n \\n \\nSISTEMA ESTRATÉGICO DE TRANSPORTE...</td>\n",
       "    </tr>\n",
       "    <tr>\n",
       "      <th>3</th>\n",
       "      <td>291901564</td>\n",
       "      <td>CERTIFICACION DE INSUFICIENCIA\\nVIGENTE\\nDESDE...</td>\n",
       "    </tr>\n",
       "    <tr>\n",
       "      <th>4</th>\n",
       "      <td>304566990</td>\n",
       "      <td>ANE XO Nro. 2 \\nOBLIGACIONES DE LA POLICÍA NAC...</td>\n",
       "    </tr>\n",
       "  </tbody>\n",
       "</table>\n",
       "</div>"
      ],
      "text/plain": [
       "      id_doc                                           doc_text\n",
       "0  266671326   SOLICITUD  CERTIFICACIÓN  DE \\nINSUFICIENCIA ...\n",
       "1  321522708   ADENDA  Página  1  \\n \\n ADENDA No. 1 \\n \\nPe...\n",
       "2  291869951   \\n  \\n \\n \\nSISTEMA ESTRATÉGICO DE TRANSPORTE...\n",
       "3  291901564  CERTIFICACION DE INSUFICIENCIA\\nVIGENTE\\nDESDE...\n",
       "4  304566990  ANE XO Nro. 2 \\nOBLIGACIONES DE LA POLICÍA NAC..."
      ]
     },
     "execution_count": 3,
     "metadata": {},
     "output_type": "execute_result"
    }
   ],
   "source": [
    "corpus_df = dataset[\"train\"].to_pandas()\n",
    "corpus_df.head(5)"
   ]
  },
  {
   "cell_type": "markdown",
   "metadata": {},
   "source": [
    "#### 🔑 Tokenizer\n",
    "Tokenize the text data."
   ]
  },
  {
   "cell_type": "code",
   "execution_count": 4,
   "metadata": {},
   "outputs": [
    {
     "name": "stdout",
     "output_type": "stream",
     "text": [
      "Length of corpus: 133,947,131 characters\n"
     ]
    }
   ],
   "source": [
    "corpus_text = \"\\n\".join(corpus_df[\"doc_text\"])\n",
    "print(f\"Length of corpus: {len(corpus_text):,} characters\")"
   ]
  },
  {
   "cell_type": "code",
   "execution_count": 5,
   "metadata": {},
   "outputs": [],
   "source": [
    "# Extra spaces\n",
    "corpus_text_clean = corpus_text.replace(\"\\n\", \" \").replace(\"\\r\", \" \")\n",
    "corpus_text_clean = re.sub(r\" +\", \" \", corpus_text_clean)\n",
    "\n",
    "# Normalization\n",
    "pat = r'[^\\w\\s!\"·$%&/()=?¿\\\\|@#+,\\.-^\\*;:_\\[\\]\\{\\} !¡¿?,\\.@#$%^&\\*]'\n",
    "corpus_text_clean = re.sub(pat, \"\", corpus_text_clean)\n",
    "corpus_text_clean = corpus_text_clean.lower()\n",
    "corpus_text_clean = unidecode(corpus_text_clean)"
   ]
  },
  {
   "cell_type": "code",
   "execution_count": 6,
   "metadata": {},
   "outputs": [
    {
     "name": "stdout",
     "output_type": "stream",
     "text": [
      "Number of unique characters: 96\n",
      "\t\n",
      "\u000b\f\u001c\u001d\u001e\u001f !\"#$%&'()*+,./0123456789:;<=>?@ABCDEFGHILMNOPRSTUVXYZ[\\]^_abcdefghijklmnopqrstuvwxyz{|}\n"
     ]
    }
   ],
   "source": [
    "chars = sorted(list(set(corpus_text_clean)))\n",
    "print(f\"Number of unique characters: {len(chars)}\")\n",
    "print(\"\".join(chars))"
   ]
  },
  {
   "cell_type": "code",
   "execution_count": 7,
   "metadata": {},
   "outputs": [],
   "source": [
    "stoi = {char: i for i, char in enumerate(chars, start=0)}\n",
    "itos = {i: char for i, char in enumerate(chars, start=0)}\n",
    "itos[max(itos) + 1] = \"[UNK]\""
   ]
  },
  {
   "cell_type": "code",
   "execution_count": 10,
   "metadata": {},
   "outputs": [],
   "source": [
    "def encode(text: str, stoi: dict = stoi) -> list:\n",
    "    \"\"\"Encode text to a list of integers.\"\"\"\n",
    "    return [stoi[char] if char in stoi else 0 for char in text]\n",
    "\n",
    "\n",
    "def decode(integers: list, itos: dict = itos) -> str:\n",
    "    \"\"\"Decode list of integers to text.\"\"\"\n",
    "    return \"\".join([itos[i] for i in integers])"
   ]
  },
  {
   "cell_type": "code",
   "execution_count": 11,
   "metadata": {},
   "outputs": [
    {
     "name": "stdout",
     "output_type": "stream",
     "text": [
      "[47, 81, 78, 67, 20, 8, 79, 87, 80, 70, 81]\n",
      "Hola, mundo\n"
     ]
    }
   ],
   "source": [
    "hey = \"Hola, mundo\"\n",
    "print(encode(hey))\n",
    "print(decode(encode(hey)))"
   ]
  },
  {
   "cell_type": "code",
   "execution_count": 12,
   "metadata": {},
   "outputs": [],
   "source": [
    "data = torch.tensor(encode(corpus_text_clean), dtype=torch.long)"
   ]
  },
  {
   "cell_type": "code",
   "execution_count": 13,
   "metadata": {},
   "outputs": [
    {
     "name": "stdout",
     "output_type": "stream",
     "text": [
      "torch.Size([127545940]) torch.int64\n",
      "tensor([ 8, 85, 81, 78, 75, 69, 75, 86, 87, 70,  8, 69, 71, 84, 86, 75, 72, 75,\n",
      "        69, 67, 69, 75, 81, 80,  8, 70, 71,  8, 75, 80, 85, 87, 72, 75, 69, 75,\n",
      "        71, 80, 69, 75, 67,  8, 81,  8, 75, 80, 71, 90, 75, 85, 86, 71, 80, 69,\n",
      "        75, 67,  8, 70, 71,  8, 82, 71, 84, 85, 81, 80, 67, 78,  8, 69, 81, 70,\n",
      "        75, 73, 81, 33,  8, 86, 67, 74, 72, 25, 29,  8, 88, 71, 84, 85, 75, 81,\n",
      "        80, 33,  8, 24,  8, 21, 23,  8, 82, 67])\n"
     ]
    }
   ],
   "source": [
    "print(data.shape, data.dtype)\n",
    "print(data[:100])"
   ]
  },
  {
   "cell_type": "markdown",
   "metadata": {},
   "source": [
    "Train validation split."
   ]
  },
  {
   "cell_type": "code",
   "execution_count": 14,
   "metadata": {},
   "outputs": [
    {
     "name": "stdout",
     "output_type": "stream",
     "text": [
      "Train size: 114,791,346 characters\n",
      "Validation size: 12,754,594 characters\n"
     ]
    }
   ],
   "source": [
    "train_size = int(len(data) * 0.90)\n",
    "train_data = data[:train_size]\n",
    "val_data = data[train_size:]\n",
    "\n",
    "print(f\"Train size: {train_data.shape[0]:,} characters\")\n",
    "print(f\"Validation size: {val_data.shape[0]:,} characters\")"
   ]
  },
  {
   "cell_type": "markdown",
   "metadata": {},
   "source": [
    "Save data to disc"
   ]
  },
  {
   "cell_type": "code",
   "execution_count": null,
   "metadata": {},
   "outputs": [],
   "source": [
    "torch.save(train_data, \"data/train_data.pt\")\n",
    "torch.save(val_data, \"data/val_data.pt\")"
   ]
  },
  {
   "cell_type": "code",
   "execution_count": 15,
   "metadata": {},
   "outputs": [],
   "source": [
    "# Save stoi and itos as json\n",
    "encoder_dict = {\"stoi\": stoi, \"itos\": itos}\n",
    "with open(\"data/encoder_dict.json\", \"w\") as f:\n",
    "    json.dump(encoder_dict, f)"
   ]
  },
  {
   "cell_type": "code",
   "execution_count": null,
   "metadata": {},
   "outputs": [],
   "source": []
  }
 ],
 "metadata": {
  "kernelspec": {
   "display_name": "env",
   "language": "python",
   "name": "python3"
  },
  "language_info": {
   "codemirror_mode": {
    "name": "ipython",
    "version": 3
   },
   "file_extension": ".py",
   "mimetype": "text/x-python",
   "name": "python",
   "nbconvert_exporter": "python",
   "pygments_lexer": "ipython3",
   "version": "3.11.5"
  }
 },
 "nbformat": 4,
 "nbformat_minor": 2
}
